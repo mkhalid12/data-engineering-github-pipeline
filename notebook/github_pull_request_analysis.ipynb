{
 "cells": [
  {
   "cell_type": "code",
   "execution_count": null,
   "id": "3670c792-fb0c-439e-8d02-b67168fd9952",
   "metadata": {},
   "outputs": [],
   "source": [
    "pip install sparksql-magic"
   ]
  },
  {
   "cell_type": "code",
   "execution_count": 61,
   "id": "c9750f91-5d8d-4de1-8b3c-44e8166619aa",
   "metadata": {},
   "outputs": [
    {
     "name": "stdout",
     "output_type": "stream",
     "text": [
      "The sparksql_magic extension is already loaded. To reload it, use:\n",
      "  %reload_ext sparksql_magic\n"
     ]
    }
   ],
   "source": [
    "%load_ext sparksql_magic"
   ]
  },
  {
   "cell_type": "code",
   "execution_count": null,
   "id": "7f1bfb8e-50a5-46b9-bbcc-3988bdc52360",
   "metadata": {},
   "outputs": [],
   "source": []
  },
  {
   "cell_type": "code",
   "execution_count": 62,
   "id": "6645bbaa-f4ec-4f60-98f6-fce0d738f375",
   "metadata": {},
   "outputs": [],
   "source": [
    "import os\n",
    "from pyspark.sql import SparkSession,DataFrame\n",
    "def read_data_frame_from_jdbc(spark: SparkSession, table: str) -> DataFrame:\n",
    "    \n",
    "    url = os.environ['DWH_URL']\n",
    "    user = os.environ['DWH_USER']\n",
    "    password = os.environ['DWH_PASSWORD']\n",
    "    \n",
    "    df = spark.read.format(\"jdbc\") \\\n",
    "        .option(\"url\", url) \\\n",
    "        .option(\"user\", user) \\\n",
    "        .option(\"password\", password) \\\n",
    "        .option(\"dbtable\", table).load()\n",
    "    return df\n",
    "\n",
    "\n",
    "spark = SparkSession.builder.appName('Dashboard').config('spark.driver.extraClassPath', os.environ['RESOURCE_JAR']).getOrCreate()\n",
    "\n",
    "read_data_frame_from_jdbc(spark,'sta_github.issues').createOrReplaceTempView(\"issues\")\n",
    "read_data_frame_from_jdbc(spark,'sta_github.pull_requests').createOrReplaceTempView(\"pull_requests\")\n",
    "read_data_frame_from_jdbc(spark,'sta_github.pull_requests_labels').createOrReplaceTempView(\"pull_requests_labels\")\n",
    "read_data_frame_from_jdbc(spark,'stg_github.pull_requests_metrics').createOrReplaceTempView(\"pull_requests_metrics\")"
   ]
  },
  {
   "cell_type": "markdown",
   "id": "8fcc4d0a-dabc-41b2-9b27-d03546cf45f1",
   "metadata": {},
   "source": [
    " ### 1. How long do pull requests (PRs) stay open on average?"
   ]
  },
  {
   "cell_type": "code",
   "execution_count": 70,
   "id": "773e00df-7ca1-4157-aa61-4497830a5005",
   "metadata": {},
   "outputs": [
    {
     "data": {
      "text/html": [
       "<table><tr style=\"border-bottom: 1px solid\"><td style=\"font-weight: bold\">pull_requests_stay_open_hours</td></tr><tr><td>127.0</td></tr></table>"
      ],
      "text/plain": [
       "<IPython.core.display.HTML object>"
      ]
     },
     "execution_count": 70,
     "metadata": {},
     "output_type": "execute_result"
    }
   ],
   "source": [
    "%%sparksql\n",
    "\n",
    "select ROUND(AVG(pull_request_lead_time_mins)/60) pull_requests_stay_open_hours from pull_requests_metrics\n"
   ]
  },
  {
   "cell_type": "markdown",
   "id": "0bd3c5dc-3e22-48ec-a98d-ae5bfaad06f0",
   "metadata": {},
   "source": [
    "### 2. What is the average time interval between an issue being created and the corresponding PR being merged?"
   ]
  },
  {
   "cell_type": "code",
   "execution_count": 71,
   "id": "2dba054a-655b-4011-bcc2-c9b6e4c1bfa0",
   "metadata": {},
   "outputs": [
    {
     "data": {
      "text/html": [
       "<table><tr style=\"border-bottom: 1px solid\"><td style=\"font-weight: bold\">pull_requests_stay_open_hours</td></tr><tr><td>91.0</td></tr></table>"
      ],
      "text/plain": [
       "<IPython.core.display.HTML object>"
      ]
     },
     "execution_count": 71,
     "metadata": {},
     "output_type": "execute_result"
    }
   ],
   "source": [
    "%%sparksql\n",
    "\n",
    "select ROUND(AVG(merge_interval)/60) pull_requests_stay_open_hours from pull_requests_metrics"
   ]
  },
  {
   "cell_type": "markdown",
   "id": "6b3da060-f84a-4d52-9086-d9b1d4de5ed4",
   "metadata": {},
   "source": [
    "### 3. Which labels are most commonly assigned to PRs, and what is their relative distribution?"
   ]
  },
  {
   "cell_type": "code",
   "execution_count": 65,
   "id": "c0f29000-a321-440d-ba91-f00823529a80",
   "metadata": {},
   "outputs": [
    {
     "name": "stdout",
     "output_type": "stream",
     "text": [
      "only showing top 20 row(s)\n"
     ]
    },
    {
     "data": {
      "text/html": [
       "<table><tr style=\"border-bottom: 1px solid\"><td style=\"font-weight: bold\">repo_name</td><td style=\"font-weight: bold\">label_name</td><td style=\"font-weight: bold\">count</td><td style=\"font-weight: bold\">distribution_percentage</td></tr><tr><td>grafana/grafana/</td><td>no-changelog</td><td>4375</td><td>16.46</td></tr><tr><td>grafana/grafana/</td><td>no-backport</td><td>3069</td><td>11.54</td></tr><tr><td>grafana/grafana/</td><td>area/frontend</td><td>2894</td><td>10.89</td></tr><tr><td>grafana/grafana/</td><td>area/backend</td><td>2174</td><td>8.18</td></tr><tr><td>grafana/grafana/</td><td>type/docs</td><td>1287</td><td>4.84</td></tr><tr><td>grafana/grafana/</td><td>backport</td><td>1266</td><td>4.76</td></tr><tr><td>grafana/grafana/</td><td>enterprise-ok</td><td>1259</td><td>4.74</td></tr><tr><td>grafana/grafana/</td><td>type/bug</td><td>1136</td><td>4.27</td></tr><tr><td>grafana/grafana/</td><td>add to changelog</td><td>908</td><td>3.42</td></tr><tr><td>grafana/grafana/</td><td>enterprise-failed</td><td>891</td><td>3.35</td></tr><tr><td>grafana/grafana/</td><td>backport v9.3.x</td><td>465</td><td>1.75</td></tr><tr><td>grafana/grafana/</td><td>backport v9.4.x</td><td>441</td><td>1.66</td></tr><tr><td>grafana/grafana/</td><td>pr/external</td><td>341</td><td>1.28</td></tr><tr><td>grafana/grafana/</td><td>area/alerting</td><td>337</td><td>1.27</td></tr><tr><td>grafana/grafana/</td><td>type/chore</td><td>284</td><td>1.07</td></tr><tr><td>grafana/grafana/</td><td>backport-failed</td><td>262</td><td>0.99</td></tr><tr><td>grafana/grafana/</td><td>datasource/Loki</td><td>247</td><td>0.93</td></tr><tr><td>grafana/grafana/</td><td>area/explore</td><td>238</td><td>0.9</td></tr><tr><td>grafana/grafana/</td><td>product-approved</td><td>222</td><td>0.84</td></tr><tr><td>grafana/grafana/</td><td>datasource/Prometheus</td><td>218</td><td>0.82</td></tr></table>"
      ],
      "text/plain": [
       "<IPython.core.display.HTML object>"
      ]
     },
     "execution_count": 65,
     "metadata": {},
     "output_type": "execute_result"
    }
   ],
   "source": [
    "%%sparksql\n",
    "\n",
    "with label_count as (\n",
    "    SELECT repo_name, label_name, count(pull_request_number) as count FROM pull_requests_labels\n",
    "    Group by 1,2\n",
    ")\n",
    "select repo_name, label_name, count, \n",
    "round( (count/(SUM(count) over (PARTITION BY repo_name)))*100,2) as distribution_percentage \n",
    "from label_count\n",
    "order by 3 desc\n",
    "\n"
   ]
  },
  {
   "cell_type": "markdown",
   "id": "3868477b-806e-4c5b-a7e7-955a54a77577",
   "metadata": {},
   "source": [
    "### 4. What is the average and median of the total number of lines changed per milestone?"
   ]
  },
  {
   "cell_type": "code",
   "execution_count": 69,
   "id": "36609f52-b9a1-408f-8cd0-005d2487d428",
   "metadata": {},
   "outputs": [
    {
     "name": "stdout",
     "output_type": "stream",
     "text": [
      "only showing top 20 row(s)\n"
     ]
    },
    {
     "data": {
      "text/html": [
       "<table><tr style=\"border-bottom: 1px solid\"><td style=\"font-weight: bold\">milestone_number</td><td style=\"font-weight: bold\">milestone_title</td><td style=\"font-weight: bold\">avg_total_lines_changed</td><td style=\"font-weight: bold\">median_total_lines_changed</td></tr><tr><td>400</td><td>9.5.x</td><td>100.19</td><td>40.5</td></tr><tr><td>414</td><td>9.5.1</td><td>406.0</td><td>406.0</td></tr><tr><td>370</td><td>9.5.0</td><td>196.2</td><td>44.0</td></tr><tr><td>393</td><td>9.4.x</td><td>18.08</td><td>9.0</td></tr><tr><td>413</td><td>9.4.9</td><td>84.77</td><td>9.0</td></tr><tr><td>404</td><td>9.4.8</td><td>91.48</td><td>33.0</td></tr><tr><td>392</td><td>9.4.7</td><td>88.27</td><td>20.0</td></tr><tr><td>391</td><td>9.4.6</td><td>368.2</td><td>284.0</td></tr><tr><td>390</td><td>9.4.5</td><td>74.03</td><td>25.5</td></tr><tr><td>389</td><td>9.4.4</td><td>93.71</td><td>17.0</td></tr><tr><td>388</td><td>9.4.3</td><td>7.4</td><td>9.0</td></tr><tr><td>384</td><td>9.4.2</td><td>6.0</td><td>5.0</td></tr><tr><td>381</td><td>9.4.1</td><td>67.83</td><td>7.0</td></tr><tr><td>380</td><td>9.4.0-beta1</td><td>288.33</td><td>58.0</td></tr><tr><td>355</td><td>9.4.0</td><td>152.78</td><td>38.0</td></tr><tr><td>396</td><td>9.3.x</td><td>16.0</td><td>16.0</td></tr><tr><td>385</td><td>9.3.9</td><td>71.06</td><td>13.0</td></tr><tr><td>382</td><td>9.3.8</td><td>51.5</td><td>14.0</td></tr><tr><td>379</td><td>9.3.7</td><td>331.4</td><td>13.0</td></tr><tr><td>375</td><td>9.3.6</td><td>39.8</td><td>21.0</td></tr></table>"
      ],
      "text/plain": [
       "<IPython.core.display.HTML object>"
      ]
     },
     "execution_count": 69,
     "metadata": {},
     "output_type": "execute_result"
    }
   ],
   "source": [
    "%%sparksql\n",
    "\n",
    "select milestone_number,milestone_title, \n",
    "ROUND(avg(total_lines_changed),2) avg_total_lines_changed,\n",
    "median(total_lines_changed) median_total_lines_changed \n",
    "from pull_requests_metrics\n",
    "Group by 1,2\n",
    "order by 2 desc"
   ]
  },
  {
   "cell_type": "code",
   "execution_count": null,
   "id": "f330f4f0-e413-41e4-8cfc-869cfda9717b",
   "metadata": {},
   "outputs": [],
   "source": []
  },
  {
   "cell_type": "code",
   "execution_count": null,
   "id": "ff95f4d2-7309-4791-b89f-76a1dc30818a",
   "metadata": {},
   "outputs": [],
   "source": []
  }
 ],
 "metadata": {
  "kernelspec": {
   "display_name": "Python 3 (ipykernel)",
   "language": "python",
   "name": "python3"
  },
  "language_info": {
   "codemirror_mode": {
    "name": "ipython",
    "version": 3
   },
   "file_extension": ".py",
   "mimetype": "text/x-python",
   "name": "python",
   "nbconvert_exporter": "python",
   "pygments_lexer": "ipython3",
   "version": "3.11.4"
  }
 },
 "nbformat": 4,
 "nbformat_minor": 5
}
